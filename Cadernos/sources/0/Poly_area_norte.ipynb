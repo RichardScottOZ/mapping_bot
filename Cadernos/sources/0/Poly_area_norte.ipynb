{
 "cells": [
  {
   "cell_type": "code",
   "execution_count": 5,
   "metadata": {},
   "outputs": [],
   "source": [
    "import pandas as pd\n",
    "import numpy as np\n",
    "import geopandas as gpd\n",
    "import pyproj\n",
    "from shapely import geometry\n",
    "import matplotlib.pyplot as plt\n",
    "import earthpy\n",
    "\n",
    "%matplotlib inline"
   ]
  },
  {
   "cell_type": "code",
   "execution_count": 2,
   "metadata": {},
   "outputs": [
    {
     "data": {
      "text/html": [
       "<div>\n",
       "<style scoped>\n",
       "    .dataframe tbody tr th:only-of-type {\n",
       "        vertical-align: middle;\n",
       "    }\n",
       "\n",
       "    .dataframe tbody tr th {\n",
       "        vertical-align: top;\n",
       "    }\n",
       "\n",
       "    .dataframe thead th {\n",
       "        text-align: right;\n",
       "    }\n",
       "</style>\n",
       "<table border=\"1\" class=\"dataframe\">\n",
       "  <thead>\n",
       "    <tr style=\"text-align: right;\">\n",
       "      <th></th>\n",
       "      <th>Unnamed: 0</th>\n",
       "      <th>X</th>\n",
       "      <th>Y</th>\n",
       "      <th>MDT</th>\n",
       "      <th>LATITUDE</th>\n",
       "      <th>LONGITUDE</th>\n",
       "      <th>MAGIGRF</th>\n",
       "      <th>MAGMIC</th>\n",
       "      <th>MAGNIV</th>\n",
       "      <th>geometry</th>\n",
       "    </tr>\n",
       "  </thead>\n",
       "  <tbody>\n",
       "    <tr>\n",
       "      <th>0</th>\n",
       "      <td>0</td>\n",
       "      <td>292879.66</td>\n",
       "      <td>7624043.90</td>\n",
       "      <td>609.44</td>\n",
       "      <td>-21.474226</td>\n",
       "      <td>-46.998990</td>\n",
       "      <td>49.882</td>\n",
       "      <td>23113.580</td>\n",
       "      <td>23119.835</td>\n",
       "      <td>POINT (292879.66 7624043.9)</td>\n",
       "    </tr>\n",
       "    <tr>\n",
       "      <th>1</th>\n",
       "      <td>1</td>\n",
       "      <td>292879.49</td>\n",
       "      <td>7624052.04</td>\n",
       "      <td>609.53</td>\n",
       "      <td>-21.474153</td>\n",
       "      <td>-46.998991</td>\n",
       "      <td>50.469</td>\n",
       "      <td>23114.171</td>\n",
       "      <td>23120.439</td>\n",
       "      <td>POINT (292879.49 7624052.04)</td>\n",
       "    </tr>\n",
       "    <tr>\n",
       "      <th>2</th>\n",
       "      <td>2</td>\n",
       "      <td>292879.32</td>\n",
       "      <td>7624060.18</td>\n",
       "      <td>609.60</td>\n",
       "      <td>-21.474079</td>\n",
       "      <td>-46.998991</td>\n",
       "      <td>50.987</td>\n",
       "      <td>23114.677</td>\n",
       "      <td>23120.958</td>\n",
       "      <td>POINT (292879.32 7624060.18)</td>\n",
       "    </tr>\n",
       "    <tr>\n",
       "      <th>3</th>\n",
       "      <td>3</td>\n",
       "      <td>292879.15</td>\n",
       "      <td>7624068.32</td>\n",
       "      <td>609.66</td>\n",
       "      <td>-21.474006</td>\n",
       "      <td>-46.998992</td>\n",
       "      <td>51.473</td>\n",
       "      <td>23115.181</td>\n",
       "      <td>23121.473</td>\n",
       "      <td>POINT (292879.15 7624068.32)</td>\n",
       "    </tr>\n",
       "    <tr>\n",
       "      <th>4</th>\n",
       "      <td>4</td>\n",
       "      <td>292878.98</td>\n",
       "      <td>7624076.47</td>\n",
       "      <td>609.71</td>\n",
       "      <td>-21.473932</td>\n",
       "      <td>-46.998993</td>\n",
       "      <td>51.945</td>\n",
       "      <td>23115.658</td>\n",
       "      <td>23121.963</td>\n",
       "      <td>POINT (292878.98 7624076.47)</td>\n",
       "    </tr>\n",
       "  </tbody>\n",
       "</table>\n",
       "</div>"
      ],
      "text/plain": [
       "   Unnamed: 0          X           Y     MDT   LATITUDE  LONGITUDE  MAGIGRF  \\\n",
       "0           0  292879.66  7624043.90  609.44 -21.474226 -46.998990   49.882   \n",
       "1           1  292879.49  7624052.04  609.53 -21.474153 -46.998991   50.469   \n",
       "2           2  292879.32  7624060.18  609.60 -21.474079 -46.998991   50.987   \n",
       "3           3  292879.15  7624068.32  609.66 -21.474006 -46.998992   51.473   \n",
       "4           4  292878.98  7624076.47  609.71 -21.473932 -46.998993   51.945   \n",
       "\n",
       "      MAGMIC     MAGNIV                      geometry  \n",
       "0  23113.580  23119.835   POINT (292879.66 7624043.9)  \n",
       "1  23114.171  23120.439  POINT (292879.49 7624052.04)  \n",
       "2  23114.677  23120.958  POINT (292879.32 7624060.18)  \n",
       "3  23115.181  23121.473  POINT (292879.15 7624068.32)  \n",
       "4  23115.658  23121.963  POINT (292878.98 7624076.47)  "
      ]
     },
     "execution_count": 2,
     "metadata": {},
     "output_type": "execute_result"
    }
   ],
   "source": [
    "mag_df = pd.read_csv('/home/haxixe/pml_grafita/database/csv/mag_df.csv')\n",
    "mag_df.head()"
   ]
  },
  {
   "cell_type": "code",
   "execution_count": 9,
   "metadata": {},
   "outputs": [],
   "source": [
    "mag_df['geometry'] = [geometry.Point(x, y) for x, y in zip(mag_df['X'], mag_df['Y'])]"
   ]
  },
  {
   "cell_type": "code",
   "execution_count": 10,
   "metadata": {},
   "outputs": [
    {
     "data": {
      "text/html": [
       "<div>\n",
       "<style scoped>\n",
       "    .dataframe tbody tr th:only-of-type {\n",
       "        vertical-align: middle;\n",
       "    }\n",
       "\n",
       "    .dataframe tbody tr th {\n",
       "        vertical-align: top;\n",
       "    }\n",
       "\n",
       "    .dataframe thead th {\n",
       "        text-align: right;\n",
       "    }\n",
       "</style>\n",
       "<table border=\"1\" class=\"dataframe\">\n",
       "  <thead>\n",
       "    <tr style=\"text-align: right;\">\n",
       "      <th></th>\n",
       "      <th>Unnamed: 0</th>\n",
       "      <th>X</th>\n",
       "      <th>Y</th>\n",
       "      <th>MDT</th>\n",
       "      <th>LATITUDE</th>\n",
       "      <th>LONGITUDE</th>\n",
       "      <th>MAGIGRF</th>\n",
       "      <th>MAGMIC</th>\n",
       "      <th>MAGNIV</th>\n",
       "      <th>geometry</th>\n",
       "    </tr>\n",
       "  </thead>\n",
       "  <tbody>\n",
       "    <tr>\n",
       "      <th>0</th>\n",
       "      <td>0</td>\n",
       "      <td>292879.66</td>\n",
       "      <td>7624043.90</td>\n",
       "      <td>609.44</td>\n",
       "      <td>-21.474226</td>\n",
       "      <td>-46.998990</td>\n",
       "      <td>49.882</td>\n",
       "      <td>23113.580</td>\n",
       "      <td>23119.835</td>\n",
       "      <td>POINT (292879.660 7624043.900)</td>\n",
       "    </tr>\n",
       "    <tr>\n",
       "      <th>1</th>\n",
       "      <td>1</td>\n",
       "      <td>292879.49</td>\n",
       "      <td>7624052.04</td>\n",
       "      <td>609.53</td>\n",
       "      <td>-21.474153</td>\n",
       "      <td>-46.998991</td>\n",
       "      <td>50.469</td>\n",
       "      <td>23114.171</td>\n",
       "      <td>23120.439</td>\n",
       "      <td>POINT (292879.490 7624052.040)</td>\n",
       "    </tr>\n",
       "    <tr>\n",
       "      <th>2</th>\n",
       "      <td>2</td>\n",
       "      <td>292879.32</td>\n",
       "      <td>7624060.18</td>\n",
       "      <td>609.60</td>\n",
       "      <td>-21.474079</td>\n",
       "      <td>-46.998991</td>\n",
       "      <td>50.987</td>\n",
       "      <td>23114.677</td>\n",
       "      <td>23120.958</td>\n",
       "      <td>POINT (292879.320 7624060.180)</td>\n",
       "    </tr>\n",
       "    <tr>\n",
       "      <th>3</th>\n",
       "      <td>3</td>\n",
       "      <td>292879.15</td>\n",
       "      <td>7624068.32</td>\n",
       "      <td>609.66</td>\n",
       "      <td>-21.474006</td>\n",
       "      <td>-46.998992</td>\n",
       "      <td>51.473</td>\n",
       "      <td>23115.181</td>\n",
       "      <td>23121.473</td>\n",
       "      <td>POINT (292879.150 7624068.320)</td>\n",
       "    </tr>\n",
       "    <tr>\n",
       "      <th>4</th>\n",
       "      <td>4</td>\n",
       "      <td>292878.98</td>\n",
       "      <td>7624076.47</td>\n",
       "      <td>609.71</td>\n",
       "      <td>-21.473932</td>\n",
       "      <td>-46.998993</td>\n",
       "      <td>51.945</td>\n",
       "      <td>23115.658</td>\n",
       "      <td>23121.963</td>\n",
       "      <td>POINT (292878.980 7624076.470)</td>\n",
       "    </tr>\n",
       "  </tbody>\n",
       "</table>\n",
       "</div>"
      ],
      "text/plain": [
       "   Unnamed: 0          X           Y     MDT   LATITUDE  LONGITUDE  MAGIGRF  \\\n",
       "0           0  292879.66  7624043.90  609.44 -21.474226 -46.998990   49.882   \n",
       "1           1  292879.49  7624052.04  609.53 -21.474153 -46.998991   50.469   \n",
       "2           2  292879.32  7624060.18  609.60 -21.474079 -46.998991   50.987   \n",
       "3           3  292879.15  7624068.32  609.66 -21.474006 -46.998992   51.473   \n",
       "4           4  292878.98  7624076.47  609.71 -21.473932 -46.998993   51.945   \n",
       "\n",
       "      MAGMIC     MAGNIV                        geometry  \n",
       "0  23113.580  23119.835  POINT (292879.660 7624043.900)  \n",
       "1  23114.171  23120.439  POINT (292879.490 7624052.040)  \n",
       "2  23114.677  23120.958  POINT (292879.320 7624060.180)  \n",
       "3  23115.181  23121.473  POINT (292879.150 7624068.320)  \n",
       "4  23115.658  23121.963  POINT (292878.980 7624076.470)  "
      ]
     },
     "execution_count": 10,
     "metadata": {},
     "output_type": "execute_result"
    }
   ],
   "source": [
    "crs =\"+proj=utm +zone=23 +south +ellps=WGS84 +datum=WGS84 +units=m +no_defs\"\n",
    "mag_df = gpd.GeoDataFrame(mag_df, geometry='geometry', crs=crs)\n",
    "mag_df.head()"
   ]
  },
  {
   "cell_type": "code",
   "execution_count": 11,
   "metadata": {},
   "outputs": [
    {
     "data": {
      "text/html": [
       "<div>\n",
       "<style scoped>\n",
       "    .dataframe tbody tr th:only-of-type {\n",
       "        vertical-align: middle;\n",
       "    }\n",
       "\n",
       "    .dataframe tbody tr th {\n",
       "        vertical-align: top;\n",
       "    }\n",
       "\n",
       "    .dataframe thead th {\n",
       "        text-align: right;\n",
       "    }\n",
       "</style>\n",
       "<table border=\"1\" class=\"dataframe\">\n",
       "  <thead>\n",
       "    <tr style=\"text-align: right;\">\n",
       "      <th></th>\n",
       "      <th>minx</th>\n",
       "      <th>miny</th>\n",
       "      <th>maxx</th>\n",
       "      <th>maxy</th>\n",
       "    </tr>\n",
       "  </thead>\n",
       "  <tbody>\n",
       "    <tr>\n",
       "      <th>0</th>\n",
       "      <td>292276.074134</td>\n",
       "      <td>7.564166e+06</td>\n",
       "      <td>345032.438156</td>\n",
       "      <td>7.636970e+06</td>\n",
       "    </tr>\n",
       "  </tbody>\n",
       "</table>\n",
       "</div>"
      ],
      "text/plain": [
       "            minx          miny           maxx          maxy\n",
       "0  292276.074134  7.564166e+06  345032.438156  7.636970e+06"
      ]
     },
     "execution_count": 11,
     "metadata": {},
     "output_type": "execute_result"
    }
   ],
   "source": [
    "pg_caconde = gpd.read_file('../database/vectors/pg_area_NW_1105/pg_area_norte1105.shp')\n",
    "pg_caconde.crs\n",
    "\n",
    "earthpy.epsg['32723']\n",
    "pg_caconde.bounds\n"
   ]
  },
  {
   "cell_type": "code",
   "execution_count": 12,
   "metadata": {},
   "outputs": [
    {
     "data": {
      "image/svg+xml": [
       "<svg xmlns=\"http://www.w3.org/2000/svg\" xmlns:xlink=\"http://www.w3.org/1999/xlink\" width=\"300\" height=\"300\" viewBox=\"289363.914134 7561253.84 58580.68402199994 78628.3200000003\" preserveAspectRatio=\"xMinYMin meet\"><g transform=\"matrix(1,0,0,-1,0,15201136.0)\"><path fill-rule=\"evenodd\" fill=\"#66cc99\" stroke=\"#555555\" stroke-width=\"524.188800000002\" opacity=\"0.6\" d=\"M 292276.074134,7636970.0 L 345032.438156,7636970.0 L 345032.438156,7564166.0 L 292276.074134,7564166.0 L 292276.074134,7636970.0 z\" /></g></svg>"
      ],
      "text/plain": [
       "<shapely.geometry.polygon.Polygon at 0x7f3d3c1dd350>"
      ]
     },
     "execution_count": 12,
     "metadata": {},
     "output_type": "execute_result"
    }
   ],
   "source": [
    "bounds = geometry.Polygon([(292276.074134, 7.636970e+06), (345032.438156, 7.636970e+06), \n",
    "                           (345032.438156, 7.564166e+06), (292276.074134, 7.564166e+06)])\n",
    "area = bounds.area\n",
    "\n",
    "bounds"
   ]
  },
  {
   "cell_type": "code",
   "execution_count": 13,
   "metadata": {},
   "outputs": [],
   "source": [
    "cond1 = mag_df.intersects(bounds)\n",
    "mag_df = mag_df[cond1]"
   ]
  },
  {
   "cell_type": "code",
   "execution_count": 14,
   "metadata": {},
   "outputs": [],
   "source": [
    "mag_df.to_csv('../database/csv/areas/mag_area_norte.csv')"
   ]
  },
  {
   "cell_type": "code",
   "execution_count": null,
   "metadata": {},
   "outputs": [],
   "source": []
  }
 ],
 "metadata": {
  "kernelspec": {
   "display_name": "Python 3",
   "language": "python",
   "name": "python3"
  },
  "language_info": {
   "codemirror_mode": {
    "name": "ipython",
    "version": 3
   },
   "file_extension": ".py",
   "mimetype": "text/x-python",
   "name": "python",
   "nbconvert_exporter": "python",
   "pygments_lexer": "ipython3",
   "version": "3.7.8"
  }
 },
 "nbformat": 4,
 "nbformat_minor": 4
}
