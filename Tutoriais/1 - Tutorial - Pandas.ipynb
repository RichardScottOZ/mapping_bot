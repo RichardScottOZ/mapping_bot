{
 "cells": [
  {
   "cell_type": "markdown",
   "metadata": {},
   "source": [
    "### 1 - Tutorial - Pandas\n",
    "[Getting started in Pandas](https://pandas.pydata.org/docs/getting_started/index.html#getting-started)\n"
   ]
  },
  {
   "cell_type": "code",
   "execution_count": 1,
   "metadata": {},
   "outputs": [],
   "source": [
    "### ESTA ETAPA ESTÁ EM DESENVOLVIMENTO, TODAS AS INFORMAÇÕES AQUI PRESENTES NECESSITAM DE REVISÃO.\n",
    "\n",
    "### Start (17:32)[15 de abril]"
   ]
  },
  {
   "cell_type": "code",
   "execution_count": 2,
   "metadata": {},
   "outputs": [],
   "source": [
    "import geopandas as gpd"
   ]
  },
  {
   "cell_type": "code",
   "execution_count": null,
   "metadata": {},
   "outputs": [],
   "source": []
  }
 ],
 "metadata": {
  "kernelspec": {
   "display_name": "Python [conda env:mining_bot]",
   "language": "python",
   "name": "conda-env-mining_bot-py"
  },
  "language_info": {
   "codemirror_mode": {
    "name": "ipython",
    "version": 3
   },
   "file_extension": ".py",
   "mimetype": "text/x-python",
   "name": "python",
   "nbconvert_exporter": "python",
   "pygments_lexer": "ipython3",
   "version": "3.7.10"
  }
 },
 "nbformat": 4,
 "nbformat_minor": 4
}
